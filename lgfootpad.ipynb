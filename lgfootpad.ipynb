{
 "cells": [
  {
   "cell_type": "code",
   "execution_count": 1,
   "metadata": {},
   "outputs": [],
   "source": [
    "import pymesh\n",
    "import numpy as np"
   ]
  },
  {
   "cell_type": "code",
   "execution_count": 5,
   "metadata": {},
   "outputs": [],
   "source": [
    "# Outer Part\n",
    "outer_radius = 0.75\n",
    "\n",
    "point_o = np.array([0, 0, 0])\n",
    "point_p = np.array([0, 0, 0.5])\n",
    "\n",
    "sphere_radius = float(0.75 / 5 * 13)\n",
    "sphere_center = np.array([0, 0, point_p[2] + sphere_radius / 13 - sphere_radius])\n",
    "\n",
    "sphere_outer = pymesh.generate_icosphere(sphere_radius, sphere_center, 3)\n",
    "point_q = np.array([0, 0, sphere_radius])\n",
    "cylinder_outer = pymesh.generate_cylinder(point_o, point_q, outer_radius, outer_radius, 120)\n",
    "\n",
    "outer_mesh = pymesh.boolean(sphere_outer, cylinder_outer, \n",
    "                            operation=\"intersection\",\n",
    "                            engine=\"cgal\")\n",
    "\n",
    "pymesh.save_mesh(\"part1.stl\", outer_mesh, ascii=True)"
   ]
  },
  {
   "cell_type": "code",
   "execution_count": null,
   "metadata": {},
   "outputs": [],
   "source": [
    "# Inner Part\n"
   ]
  }
 ],
 "metadata": {
  "interpreter": {
   "hash": "8fcfbb5002289e8d43c24552b2a6119fd83a6927778941c9733344d2b6afee7b"
  },
  "kernelspec": {
   "display_name": "Python 3.10.1 64-bit ('3.10.1': pyenv)",
   "language": "python",
   "name": "python3"
  },
  "language_info": {
   "codemirror_mode": {
    "name": "ipython",
    "version": 3
   },
   "file_extension": ".py",
   "mimetype": "text/x-python",
   "name": "python",
   "nbconvert_exporter": "python",
   "pygments_lexer": "ipython3",
   "version": "3.10.1"
  },
  "orig_nbformat": 4
 },
 "nbformat": 4,
 "nbformat_minor": 2
}
